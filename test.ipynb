{
 "cells": [
  {
   "cell_type": "code",
   "execution_count": 1,
   "metadata": {
    "tags": []
   },
   "outputs": [
    {
     "output_type": "stream",
     "name": "stdout",
     "text": "pygame 1.9.6\nHello from the pygame community. https://www.pygame.org/contribute.html\n"
    }
   ],
   "source": [
    "import os\n",
    "import importlib\n",
    "import random\n",
    "import math\n",
    "\n",
    "import numpy as np\n",
    "import torch\n",
    "import torch.nn as nn\n",
    "import torch.nn.functional as F\n",
    "from torch.autograd import Variable\n",
    "import torch.optim as optim\n",
    "import numpy as np\n",
    "\n",
    "from interface import Environment\n",
    "import agent.fix_rule.agent as aa\n",
    "import agent.xuance.agent as xu"
   ]
  },
  {
   "cell_type": "code",
   "execution_count": 2,
   "metadata": {},
   "outputs": [],
   "source": [
    "agent1 = aa.Agent()\n",
    "agent2 = aa.Agent()"
   ]
  },
  {
   "cell_type": "code",
   "execution_count": 3,
   "metadata": {},
   "outputs": [],
   "source": [
    "map_path = 'maps/1000_1000_2_10_vs_2_10.map'\n",
    "# map_path = 'maps/1000_1000_fighter10v10.map'"
   ]
  },
  {
   "cell_type": "code",
   "execution_count": 4,
   "metadata": {},
   "outputs": [],
   "source": [
    "env = Environment(map_path=map_path, side1_obs_ind=agent1.get_obs_ind(), side2_obs_ind=agent2.get_obs_ind())\n",
    "step_cnt = 0"
   ]
  },
  {
   "cell_type": "code",
   "execution_count": 5,
   "metadata": {},
   "outputs": [],
   "source": [
    "size_x, size_y = env.get_map_size()\n",
    "side1_detector_num, side1_fighter_num, side2_detector_num, side2_fighter_num = env.get_unit_num()"
   ]
  },
  {
   "cell_type": "code",
   "execution_count": 6,
   "metadata": {},
   "outputs": [],
   "source": [
    "agent1.set_map_info(size_x, size_y, side1_detector_num, side1_fighter_num)\n",
    "agent2.set_map_info(size_x, size_y, side2_detector_num, side2_fighter_num)"
   ]
  },
  {
   "cell_type": "code",
   "execution_count": 9,
   "metadata": {},
   "outputs": [],
   "source": [
    "side1_obs_dict, side2_obs_dict = env.get_obs()"
   ]
  },
  {
   "cell_type": "code",
   "execution_count": 10,
   "metadata": {},
   "outputs": [],
   "source": [
    "for i in range(135):\n",
    "    step_cnt += 1\n",
    "    side1_detector_action, side1_fighter_action = agent1.get_action(side1_obs_dict, step_cnt)\n",
    "    side2_detector_action, side2_fighter_action = agent2.get_action(side2_obs_dict, step_cnt)\n",
    "    a=env.step(side1_detector_action, side1_fighter_action, side2_detector_action, side2_fighter_action)\n",
    "    side1_obs_dict, side2_obs_dict = env.get_obs()"
   ]
  },
  {
   "cell_type": "code",
   "execution_count": 11,
   "metadata": {},
   "outputs": [
    {
     "output_type": "execute_result",
     "data": {
      "text/plain": "{'strike_list': [], 'passive_detection_enemy_list': []}"
     },
     "metadata": {},
     "execution_count": 11
    }
   ],
   "source": [
    "side1_obs_dict['joint_obs_dict']"
   ]
  },
  {
   "cell_type": "code",
   "execution_count": 14,
   "metadata": {},
   "outputs": [
    {
     "output_type": "execute_result",
     "data": {
      "text/plain": "[{'id': 1,\n  'alive': True,\n  'pos_x': 235,\n  'pos_y': 334,\n  'course': 0,\n  'r_iswork': True,\n  'r_fre_point': 1,\n  'r_visible_list': [{'id': 4, 'type': 1, 'pos_x': 504, 'pos_y': 263},\n   {'id': 5, 'type': 1, 'pos_x': 500, 'pos_y': 285}],\n  'last_reward': 0,\n  'last_action': {'course': 0, 'r_iswork': True, 'r_fre_point': 1}},\n {'id': 2,\n  'alive': True,\n  'pos_x': 235,\n  'pos_y': 667,\n  'course': 0,\n  'r_iswork': True,\n  'r_fre_point': 1,\n  'r_visible_list': [],\n  'last_reward': 0,\n  'last_action': {'course': 0, 'r_iswork': True, 'r_fre_point': 1}}]"
     },
     "metadata": {},
     "execution_count": 14
    }
   ],
   "source": [
    "side1_obs_dict['detector_obs_list']"
   ]
  },
  {
   "cell_type": "code",
   "execution_count": null,
   "metadata": {},
   "outputs": [],
   "source": [
    "a=env.step(side1_detector_action, side1_fighter_action, side2_detector_action, side2_fighter_action)"
   ]
  },
  {
   "cell_type": "code",
   "execution_count": null,
   "metadata": {},
   "outputs": [],
   "source": [
    "side1_obs_dict['fighter_obs_list'][0]"
   ]
  },
  {
   "cell_type": "code",
   "execution_count": null,
   "metadata": {},
   "outputs": [],
   "source": [
    "env.get_reward()"
   ]
  },
  {
   "cell_type": "code",
   "execution_count": null,
   "metadata": {},
   "outputs": [],
   "source": [
    "env.get_map_size()[0]"
   ]
  },
  {
   "cell_type": "code",
   "execution_count": null,
   "metadata": {},
   "outputs": [],
   "source": [
    "side2_obs_dict['detector_obs_list']"
   ]
  },
  {
   "cell_type": "code",
   "execution_count": null,
   "metadata": {},
   "outputs": [],
   "source": [
    "side1_obs_dict['detector_obs_list']"
   ]
  },
  {
   "cell_type": "code",
   "execution_count": null,
   "metadata": {},
   "outputs": [],
   "source": [
    "side1_obs_dict['fighter_obs_list']"
   ]
  },
  {
   "cell_type": "code",
   "execution_count": null,
   "metadata": {},
   "outputs": [],
   "source": [
    "side1_obs_dict['joint_obs_dict']"
   ]
  },
  {
   "cell_type": "code",
   "execution_count": null,
   "metadata": {},
   "outputs": [],
   "source": [
    "side2_obs_dict['fighter_obs_list']"
   ]
  },
  {
   "cell_type": "code",
   "execution_count": null,
   "metadata": {},
   "outputs": [],
   "source": [
    "env.get_reward()"
   ]
  },
  {
   "cell_type": "code",
   "execution_count": null,
   "metadata": {},
   "outputs": [],
   "source": [
    "ae = agent.ae.ae.StateAE()"
   ]
  },
  {
   "cell_type": "code",
   "execution_count": null,
   "metadata": {},
   "outputs": [],
   "source": [
    "a=torch.Tensor([[1,2],[3,4]])\n",
    "b=torch.Tensor([[0,0],[0,0]])"
   ]
  },
  {
   "cell_type": "code",
   "execution_count": null,
   "metadata": {},
   "outputs": [],
   "source": [
    "a=torch.Tensor([1,2])\n",
    "b=torch.Tensor([3,4])"
   ]
  },
  {
   "cell_type": "code",
   "execution_count": null,
   "metadata": {},
   "outputs": [],
   "source": [
    "a=Variable(a, requires_grad=True)\n",
    "b=Variable(b, requires_grad=False)"
   ]
  },
  {
   "cell_type": "code",
   "execution_count": null,
   "metadata": {},
   "outputs": [],
   "source": [
    "class A(nn.Module):\n",
    "    def __init__(self):\n",
    "        super(A, self).__init__()\n",
    "        self.linear = nn.Linear(2,2)\n",
    "    \n",
    "    def forward(self, input):\n",
    "        return self.linear(input)"
   ]
  },
  {
   "cell_type": "code",
   "execution_count": null,
   "metadata": {},
   "outputs": [],
   "source": [
    "net = A()\n",
    "opt = optim.SGD(net.parameters(), lr=1)"
   ]
  },
  {
   "cell_type": "code",
   "execution_count": null,
   "metadata": {},
   "outputs": [],
   "source": [
    "a=np.zeros((2,1,2))\n",
    "b=np.ones((2,1,2))"
   ]
  },
  {
   "cell_type": "code",
   "execution_count": null,
   "metadata": {},
   "outputs": [],
   "source": [
    "a=np.array([[1,2],[4,5],[3,4]])"
   ]
  },
  {
   "cell_type": "code",
   "execution_count": null,
   "metadata": {},
   "outputs": [],
   "source": [
    "class BlockNet(nn.Module):\n",
    "    def __init__(self, in_channels, out_channels, kernel_size=3, out_activation=nn.ReLU):\n",
    "        super(BlockNet, self).__init__()\n",
    "        self.res1 = ResUnit(in_channels, in_channels, kernel_size=kernel_size)\n",
    "        self.res2 = ResUnit(in_channels, out_channels, kernel_size=kernel_size, out_activation=out_activation)\n",
    "\n",
    "    def forward(self, x):\n",
    "        out = self.res1(x)\n",
    "        out = self.res2(out)\n",
    "        return out"
   ]
  },
  {
   "cell_type": "code",
   "execution_count": null,
   "metadata": {},
   "outputs": [],
   "source": [
    "class ResUnit(nn.Module):\n",
    "    def __init__(self, in_channels, out_channels, kernel_size=3, out_activation=nn.ReLU):\n",
    "        super(ResUnit, self).__init__()\n",
    "        self.conv1 = nn.Conv2d(in_channels, in_channels, kernel_size, 1, (kernel_size-1)//2)\n",
    "        self.conv2 = nn.Conv2d(in_channels, out_channels, kernel_size, 1, (kernel_size-1)//2)\n",
    "        if (in_channels != out_channels):\n",
    "            self.projection = nn.Conv2d(\n",
    "                in_channels, out_channels, kernel_size=1, stride=1, padding=0, bias=False)\n",
    "        if out_activation:\n",
    "            self.out_activation = out_activation()\n",
    "\n",
    "    def forward(self, x):\n",
    "        out = self.conv1(x)\n",
    "        out = F.relu(out)\n",
    "        out = self.conv2(out)\n",
    "        if (x.shape[1] != out.shape[1]):\n",
    "            x = self.projection(x)\n",
    "        out = out + x\n",
    "        if hasattr(self, 'out_activation'):\n",
    "            out = self.out_activation(out)\n",
    "        return out"
   ]
  },
  {
   "cell_type": "code",
   "execution_count": null,
   "metadata": {},
   "outputs": [],
   "source": [
    "        preprocess_net = nn.Sequential( # 预处理\n",
    "            BlockNet(in_channels=2, out_channels=2, kernel_size=7, out_activation=nn.Tanh),\n",
    "            BlockNet(in_channels=2, out_channels=2, kernel_size=5, out_activation=nn.Tanh))"
   ]
  },
  {
   "cell_type": "code",
   "execution_count": null,
   "metadata": {},
   "outputs": [],
   "source": [
    "class DQN(nn.Module):\n",
    "    def __init__(self, preprocess_net=None):\n",
    "        super(DQN, self).__init__()\n",
    "        self.tau = 0.005\n",
    "        self.preprocess = preprocess_net\n",
    "        self.q = BlockNet(in_channels=3, out_channels=1, kernel_size=3, out_activation=None)\n",
    "        self.target_q = BlockNet(in_channels=3, out_channels=1, kernel_size=3, out_activation=None)\n",
    "        self.opt = optim.SGD(self.parameters(), lr=1e-3)"
   ]
  },
  {
   "cell_type": "code",
   "execution_count": null,
   "metadata": {},
   "outputs": [],
   "source": [
    "dqn = DQN(preprocess_net=preprocess_net)"
   ]
  },
  {
   "cell_type": "code",
   "execution_count": 13,
   "metadata": {},
   "outputs": [],
   "source": [
    "a=np.array([[1,2],[3,4]])"
   ]
  },
  {
   "cell_type": "code",
   "execution_count": 16,
   "metadata": {},
   "outputs": [
    {
     "output_type": "execute_result",
     "data": {
      "text/plain": "[array([1, 2])]"
     },
     "metadata": {},
     "execution_count": 16
    }
   ],
   "source": [
    "[x for x in a if x[0]==1]"
   ]
  },
  {
   "cell_type": "code",
   "execution_count": 12,
   "metadata": {},
   "outputs": [
    {
     "output_type": "execute_result",
     "data": {
      "text/plain": "2"
     },
     "metadata": {},
     "execution_count": 12
    }
   ],
   "source": [
    "np.sum(a)"
   ]
  },
  {
   "cell_type": "code",
   "execution_count": null,
   "metadata": {},
   "outputs": [],
   "source": []
  }
 ],
 "metadata": {
  "language_info": {
   "codemirror_mode": {
    "name": "ipython",
    "version": 3
   },
   "file_extension": ".py",
   "mimetype": "text/x-python",
   "name": "python",
   "nbconvert_exporter": "python",
   "pygments_lexer": "ipython3",
   "version": "3.7.5-final"
  },
  "orig_nbformat": 2,
  "kernelspec": {
   "name": "python3",
   "display_name": "Python 3"
  }
 },
 "nbformat": 4,
 "nbformat_minor": 2
}