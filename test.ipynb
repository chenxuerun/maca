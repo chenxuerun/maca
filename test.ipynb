{
 "cells": [
  {
   "cell_type": "code",
   "execution_count": 24,
   "metadata": {
    "tags": []
   },
   "outputs": [],
   "source": [
    "import os\n",
    "import importlib\n",
    "import random\n",
    "import math\n",
    "\n",
    "import numpy as np\n",
    "import torch\n",
    "import torch.nn as nn\n",
    "import torch.nn.functional as F\n",
    "from torch.autograd import Variable\n",
    "import torch.optim as optim\n",
    "import numpy as np\n",
    "\n",
    "from interface import Environment\n",
    "import agent.ganlu.agent as ga\n",
    "import agent.fix_rule.agent as fi"
   ]
  },
  {
   "cell_type": "code",
   "execution_count": 42,
   "metadata": {},
   "outputs": [],
   "source": [
    "agent1 = ga.Agent('300')\n",
    "agent1.reset()\n",
    "agent2 = fi.Agent()"
   ]
  },
  {
   "cell_type": "code",
   "execution_count": 43,
   "metadata": {},
   "outputs": [],
   "source": [
    "map_path = 'maps/1000_1000_2_10_vs_2_10.map'\n",
    "# map_path = 'maps/1000_1000_fighter10v10.map'"
   ]
  },
  {
   "cell_type": "code",
   "execution_count": 44,
   "metadata": {},
   "outputs": [],
   "source": [
    "env = Environment(map_path=map_path, side1_obs_ind=agent1.get_obs_ind(), side2_obs_ind=agent2.get_obs_ind())\n",
    "step_cnt = 0"
   ]
  },
  {
   "cell_type": "code",
   "execution_count": 45,
   "metadata": {},
   "outputs": [],
   "source": [
    "size_x, size_y = env.get_map_size()\n",
    "side1_detector_num, side1_fighter_num, side2_detector_num, side2_fighter_num = env.get_unit_num()"
   ]
  },
  {
   "cell_type": "code",
   "execution_count": 46,
   "metadata": {},
   "outputs": [],
   "source": [
    "agent1.set_map_info(size_x, size_y, side1_detector_num, side1_fighter_num)\n",
    "agent2.set_map_info(size_x, size_y, side2_detector_num, side2_fighter_num)"
   ]
  },
  {
   "cell_type": "code",
   "execution_count": 47,
   "metadata": {},
   "outputs": [],
   "source": [
    "side1_obs_dict, side2_obs_dict = env.get_obs()"
   ]
  },
  {
   "cell_type": "code",
   "execution_count": 52,
   "metadata": {
    "tags": [
     "outputPrepend"
    ]
   },
   "outputs": [
    {
     "output_type": "stream",
     "name": "stdout",
     "text": " 'hit_target': 0, 'missile_type': 0}, {'course': 105, 'r_iswork': True, 'r_fre_point': 1, 'j_iswork': True, 'j_fre_point': 0, 'hit_target': 0, 'missile_type': 0}, {'course': 179, 'r_iswork': True, 'r_fre_point': 1, 'j_iswork': True, 'j_fre_point': 0, 'hit_target': 0, 'missile_type': 0}, {'course': 25, 'r_iswork': True, 'r_fre_point': 1, 'j_iswork': True, 'j_fre_point': 0, 'hit_target': 0, 'missile_type': 0}, {'course': 16, 'r_iswork': True, 'r_fre_point': 1, 'j_iswork': True, 'j_fre_point': 0, 'hit_target': 0, 'missile_type': 0}, {'course': 194, 'r_iswork': True, 'r_fre_point': 1, 'j_iswork': True, 'j_fre_point': 0, 'hit_target': 0, 'missile_type': 0}, {'course': 354, 'r_iswork': True, 'r_fre_point': 1, 'j_iswork': True, 'j_fre_point': 0, 'hit_target': 0, 'missile_type': 0}]\n[[  74    7   11    0]\n [-160    7   11    0]\n [  11    7   11    0]\n [  34    7   11    0]\n [  51    7   11    0]\n [  17    7    0    0]\n [ -52    7    0    0]\n [-161    7    0    0]\n [   9    7    0    0]\n [ -59    7   21    0]]\n[{'course': 290, 'r_iswork': True, 'r_fre_point': 1, 'j_iswork': True, 'j_fre_point': 0, 'hit_target': 0, 'missile_type': 0}, {'course': 69, 'r_iswork': True, 'r_fre_point': 1, 'j_iswork': True, 'j_fre_point': 0, 'hit_target': 0, 'missile_type': 0}, {'course': 29, 'r_iswork': True, 'r_fre_point': 1, 'j_iswork': True, 'j_fre_point': 0, 'hit_target': 0, 'missile_type': 0}, {'course': 140, 'r_iswork': True, 'r_fre_point': 1, 'j_iswork': True, 'j_fre_point': 0, 'hit_target': 0, 'missile_type': 0}, {'course': 105, 'r_iswork': True, 'r_fre_point': 1, 'j_iswork': True, 'j_fre_point': 0, 'hit_target': 0, 'missile_type': 0}, {'course': 179, 'r_iswork': True, 'r_fre_point': 1, 'j_iswork': True, 'j_fre_point': 0, 'hit_target': 0, 'missile_type': 0}, {'course': 25, 'r_iswork': True, 'r_fre_point': 1, 'j_iswork': True, 'j_fre_point': 0, 'hit_target': 0, 'missile_type': 0}, {'course': 16, 'r_iswork': True, 'r_fre_point': 1, 'j_iswork': True, 'j_fre_point': 0, 'hit_target': 0, 'missile_type': 0}, {'course': 194, 'r_iswork': True, 'r_fre_point': 1, 'j_iswork': True, 'j_fre_point': 0, 'hit_target': 0, 'missile_type': 0}, {'course': 354, 'r_iswork': True, 'r_fre_point': 1, 'j_iswork': True, 'j_fre_point': 0, 'hit_target': 0, 'missile_type': 0}]\n[[  44    9   11    0]\n [-115    9   11    0]\n [  -3    9   11    0]\n [  17    9   11    0]\n [  23    9   11    0]\n [  17    9    0    0]\n [-136    9    0    0]\n [-103    9    0    0]\n [   2    9    0    0]\n [ -85    9   21    0]]\n[{'course': 290, 'r_iswork': True, 'r_fre_point': 1, 'j_iswork': True, 'j_fre_point': 0, 'hit_target': 0, 'missile_type': 0}, {'course': 69, 'r_iswork': True, 'r_fre_point': 1, 'j_iswork': True, 'j_fre_point': 0, 'hit_target': 0, 'missile_type': 0}, {'course': 29, 'r_iswork': True, 'r_fre_point': 1, 'j_iswork': True, 'j_fre_point': 0, 'hit_target': 0, 'missile_type': 0}, {'course': 140, 'r_iswork': True, 'r_fre_point': 1, 'j_iswork': True, 'j_fre_point': 0, 'hit_target': 0, 'missile_type': 0}, {'course': 105, 'r_iswork': True, 'r_fre_point': 1, 'j_iswork': True, 'j_fre_point': 0, 'hit_target': 0, 'missile_type': 0}, {'course': 197, 'r_iswork': True, 'r_fre_point': 1, 'j_iswork': True, 'j_fre_point': 0, 'hit_target': 0, 'missile_type': 0}, {'course': 25, 'r_iswork': True, 'r_fre_point': 1, 'j_iswork': True, 'j_fre_point': 0, 'hit_target': 0, 'missile_type': 0}, {'course': 16, 'r_iswork': True, 'r_fre_point': 1, 'j_iswork': True, 'j_fre_point': 0, 'hit_target': 0, 'missile_type': 0}, {'course': 194, 'r_iswork': True, 'r_fre_point': 1, 'j_iswork': True, 'j_fre_point': 0, 'hit_target': 0, 'missile_type': 0}, {'course': 354, 'r_iswork': True, 'r_fre_point': 1, 'j_iswork': True, 'j_fre_point': 0, 'hit_target': 0, 'missile_type': 0}]\n[[  41    4   11    0]\n [ -70    4   11    0]\n [   7    4   11    0]\n [   2    4   11    0]\n [  50    4   11    0]\n [  17    4    0    0]\n [-116    4    0    0]\n [-173    4    0    0]\n [  82    4    0    0]\n [ -96    4   21    0]]\n[{'course': 290, 'r_iswork': True, 'r_fre_point': 1, 'j_iswork': True, 'j_fre_point': 0, 'hit_target': 0, 'missile_type': 0}, {'course': 69, 'r_iswork': True, 'r_fre_point': 1, 'j_iswork': True, 'j_fre_point': 0, 'hit_target': 0, 'missile_type': 0}, {'course': 29, 'r_iswork': True, 'r_fre_point': 1, 'j_iswork': True, 'j_fre_point': 0, 'hit_target': 0, 'missile_type': 0}, {'course': 140, 'r_iswork': True, 'r_fre_point': 1, 'j_iswork': True, 'j_fre_point': 0, 'hit_target': 0, 'missile_type': 0}, {'course': 105, 'r_iswork': True, 'r_fre_point': 1, 'j_iswork': True, 'j_fre_point': 0, 'hit_target': 0, 'missile_type': 0}, {'course': 197, 'r_iswork': True, 'r_fre_point': 1, 'j_iswork': True, 'j_fre_point': 0, 'hit_target': 0, 'missile_type': 0}, {'course': 25, 'r_iswork': True, 'r_fre_point': 1, 'j_iswork': True, 'j_fre_point': 0, 'hit_target': 0, 'missile_type': 0}, {'course': 16, 'r_iswork': True, 'r_fre_point': 1, 'j_iswork': True, 'j_fre_point': 0, 'hit_target': 0, 'missile_type': 0}, {'course': 194, 'r_iswork': True, 'r_fre_point': 1, 'j_iswork': True, 'j_fre_point': 0, 'hit_target': 0, 'missile_type': 0}, {'course': 354, 'r_iswork': True, 'r_fre_point': 1, 'j_iswork': True, 'j_fre_point': 0, 'hit_target': 0, 'missile_type': 0}]\n[[  79    9   11    0]\n [-117    9   11    0]\n [  14    9   11    0]\n [ -11    9   11    0]\n [  24    9   11    0]\n [  17    9    0    0]\n [-124    9    0    0]\n [ -75    9    0    0]\n [   0    9    0    0]\n [-150    9   21    0]]\n[{'course': 290, 'r_iswork': True, 'r_fre_point': 1, 'j_iswork': True, 'j_fre_point': 0, 'hit_target': 0, 'missile_type': 0}, {'course': 69, 'r_iswork': True, 'r_fre_point': 1, 'j_iswork': True, 'j_fre_point': 0, 'hit_target': 0, 'missile_type': 0}, {'course': 29, 'r_iswork': True, 'r_fre_point': 1, 'j_iswork': True, 'j_fre_point': 0, 'hit_target': 0, 'missile_type': 0}, {'course': 140, 'r_iswork': True, 'r_fre_point': 1, 'j_iswork': True, 'j_fre_point': 0, 'hit_target': 0, 'missile_type': 0}, {'course': 105, 'r_iswork': True, 'r_fre_point': 1, 'j_iswork': True, 'j_fre_point': 0, 'hit_target': 0, 'missile_type': 0}, {'course': 197, 'r_iswork': True, 'r_fre_point': 1, 'j_iswork': True, 'j_fre_point': 0, 'hit_target': 0, 'missile_type': 0}, {'course': 25, 'r_iswork': True, 'r_fre_point': 1, 'j_iswork': True, 'j_fre_point': 0, 'hit_target': 0, 'missile_type': 0}, {'course': 16, 'r_iswork': True, 'r_fre_point': 1, 'j_iswork': True, 'j_fre_point': 0, 'hit_target': 0, 'missile_type': 0}, {'course': 194, 'r_iswork': True, 'r_fre_point': 1, 'j_iswork': True, 'j_fre_point': 0, 'hit_target': 0, 'missile_type': 0}, {'course': 354, 'r_iswork': True, 'r_fre_point': 1, 'j_iswork': True, 'j_fre_point': 0, 'hit_target': 0, 'missile_type': 0}]\n[[  15    4   11    0]\n [ -94    4   11    0]\n [  90    4   11    0]\n [  54    4   11    0]\n [  -2    4   11    0]\n [  17    4    0    0]\n [ -92    4    0    0]\n [-116    4    0    0]\n [  16    4    0    0]\n [-116    4   21    0]]\n[{'course': 290, 'r_iswork': True, 'r_fre_point': 1, 'j_iswork': True, 'j_fre_point': 0, 'hit_target': 0, 'missile_type': 0}, {'course': 69, 'r_iswork': True, 'r_fre_point': 1, 'j_iswork': True, 'j_fre_point': 0, 'hit_target': 0, 'missile_type': 0}, {'course': 29, 'r_iswork': True, 'r_fre_point': 1, 'j_iswork': True, 'j_fre_point': 0, 'hit_target': 0, 'missile_type': 0}, {'course': 140, 'r_iswork': True, 'r_fre_point': 1, 'j_iswork': True, 'j_fre_point': 0, 'hit_target': 0, 'missile_type': 0}, {'course': 105, 'r_iswork': True, 'r_fre_point': 1, 'j_iswork': True, 'j_fre_point': 0, 'hit_target': 0, 'missile_type': 0}, {'course': 197, 'r_iswork': True, 'r_fre_point': 1, 'j_iswork': True, 'j_fre_point': 0, 'hit_target': 0, 'missile_type': 0}, {'course': 25, 'r_iswork': True, 'r_fre_point': 1, 'j_iswork': True, 'j_fre_point': 0, 'hit_target': 0, 'missile_type': 0}, {'course': 16, 'r_iswork': True, 'r_fre_point': 1, 'j_iswork': True, 'j_fre_point': 0, 'hit_target': 0, 'missile_type': 0}, {'course': 194, 'r_iswork': True, 'r_fre_point': 1, 'j_iswork': True, 'j_fre_point': 0, 'hit_target': 0, 'missile_type': 0}, {'course': 354, 'r_iswork': True, 'r_fre_point': 1, 'j_iswork': True, 'j_fre_point': 0, 'hit_target': 0, 'missile_type': 0}]\n[[  94    8   11    0]\n [-109    8   11    0]\n [  44    8   11    0]\n [  22    8   11    0]\n [  98    8   11    0]\n [  17    8    0    0]\n [ -97    8    0    0]\n [-143    8    0    0]\n [ -17    8    0    0]\n [-154    8   21    0]]\n[{'course': 290, 'r_iswork': True, 'r_fre_point': 1, 'j_iswork': True, 'j_fre_point': 0, 'hit_target': 0, 'missile_type': 0}, {'course': 69, 'r_iswork': True, 'r_fre_point': 1, 'j_iswork': True, 'j_fre_point': 0, 'hit_target': 0, 'missile_type': 0}, {'course': 29, 'r_iswork': True, 'r_fre_point': 1, 'j_iswork': True, 'j_fre_point': 0, 'hit_target': 0, 'missile_type': 0}, {'course': 140, 'r_iswork': True, 'r_fre_point': 1, 'j_iswork': True, 'j_fre_point': 0, 'hit_target': 0, 'missile_type': 0}, {'course': 105, 'r_iswork': True, 'r_fre_point': 1, 'j_iswork': True, 'j_fre_point': 0, 'hit_target': 0, 'missile_type': 0}, {'course': 197, 'r_iswork': True, 'r_fre_point': 1, 'j_iswork': True, 'j_fre_point': 0, 'hit_target': 0, 'missile_type': 0}, {'course': 25, 'r_iswork': True, 'r_fre_point': 1, 'j_iswork': True, 'j_fre_point': 0, 'hit_target': 0, 'missile_type': 0}, {'course': 16, 'r_iswork': True, 'r_fre_point': 1, 'j_iswork': True, 'j_fre_point': 0, 'hit_target': 0, 'missile_type': 0}, {'course': 194, 'r_iswork': True, 'r_fre_point': 1, 'j_iswork': True, 'j_fre_point': 0, 'hit_target': 0, 'missile_type': 0}, {'course': 354, 'r_iswork': True, 'r_fre_point': 1, 'j_iswork': True, 'j_fre_point': 0, 'hit_target': 0, 'missile_type': 0}]\n[[  -2    3   11    0]\n [ -65    3   11    0]\n [  -9    3   11    0]\n [  60    3   11    0]\n [   0    3    0    0]\n [  17    3    0    0]\n [-136    3    0    0]\n [-154    3    0    0]\n [ -10    3    0    0]\n [ -48    3   21    0]]\n[{'course': 290, 'r_iswork': True, 'r_fre_point': 1, 'j_iswork': True, 'j_fre_point': 0, 'hit_target': 0, 'missile_type': 0}, {'course': 69, 'r_iswork': True, 'r_fre_point': 1, 'j_iswork': True, 'j_fre_point': 0, 'hit_target': 0, 'missile_type': 0}, {'course': 29, 'r_iswork': True, 'r_fre_point': 1, 'j_iswork': True, 'j_fre_point': 0, 'hit_target': 0, 'missile_type': 0}, {'course': 180, 'r_iswork': True, 'r_fre_point': 1, 'j_iswork': True, 'j_fre_point': 0, 'hit_target': 0, 'missile_type': 0}, {'course': 105, 'r_iswork': True, 'r_fre_point': 1, 'j_iswork': True, 'j_fre_point': 0, 'hit_target': 0, 'missile_type': 0}, {'course': 197, 'r_iswork': True, 'r_fre_point': 1, 'j_iswork': True, 'j_fre_point': 0, 'hit_target': 0, 'missile_type': 0}, {'course': 25, 'r_iswork': True, 'r_fre_point': 1, 'j_iswork': True, 'j_fre_point': 0, 'hit_target': 0, 'missile_type': 0}, {'course': 16, 'r_iswork': True, 'r_fre_point': 1, 'j_iswork': True, 'j_fre_point': 0, 'hit_target': 0, 'missile_type': 0}, {'course': 194, 'r_iswork': True, 'r_fre_point': 1, 'j_iswork': True, 'j_fre_point': 0, 'hit_target': 0, 'missile_type': 0}, {'course': 354, 'r_iswork': True, 'r_fre_point': 1, 'j_iswork': True, 'j_fre_point': 0, 'hit_target': 0, 'missile_type': 0}]\n[[  19    2   11    0]\n [ -91    2   11    0]\n [  28    2   11    0]\n [  34    2   11    0]\n [   0    2    0    0]\n [ -28    2    0    0]\n [-134    2    0    0]\n [ -83    2    0    0]\n [ -37    2    0    0]\n [ -48    2   21    0]]\n[{'course': 290, 'r_iswork': True, 'r_fre_point': 1, 'j_iswork': True, 'j_fre_point': 0, 'hit_target': 0, 'missile_type': 0}, {'course': 69, 'r_iswork': True, 'r_fre_point': 1, 'j_iswork': True, 'j_fre_point': 0, 'hit_target': 0, 'missile_type': 0}, {'course': 29, 'r_iswork': True, 'r_fre_point': 1, 'j_iswork': True, 'j_fre_point': 0, 'hit_target': 0, 'missile_type': 0}, {'course': 180, 'r_iswork': True, 'r_fre_point': 1, 'j_iswork': True, 'j_fre_point': 0, 'hit_target': 0, 'missile_type': 0}, {'course': 105, 'r_iswork': True, 'r_fre_point': 1, 'j_iswork': True, 'j_fre_point': 0, 'hit_target': 0, 'missile_type': 0}, {'course': 197, 'r_iswork': True, 'r_fre_point': 1, 'j_iswork': True, 'j_fre_point': 0, 'hit_target': 0, 'missile_type': 0}, {'course': 25, 'r_iswork': True, 'r_fre_point': 1, 'j_iswork': True, 'j_fre_point': 0, 'hit_target': 0, 'missile_type': 0}, {'course': 16, 'r_iswork': True, 'r_fre_point': 1, 'j_iswork': True, 'j_fre_point': 0, 'hit_target': 0, 'missile_type': 0}, {'course': 194, 'r_iswork': True, 'r_fre_point': 1, 'j_iswork': True, 'j_fre_point': 0, 'hit_target': 0, 'missile_type': 0}, {'course': 354, 'r_iswork': True, 'r_fre_point': 1, 'j_iswork': True, 'j_fre_point': 0, 'hit_target': 0, 'missile_type': 0}]\n[[  44    4   11    0]\n [ -95    4   11    0]\n [  54    4   11    0]\n [  30    4    0    0]\n [   0    4    0    0]\n [  17    4    0    0]\n [-145    4    0    0]\n [-101    4    0    0]\n [ -38    4    0    0]\n [-134    4   21    0]]\n[{'course': 290, 'r_iswork': True, 'r_fre_point': 1, 'j_iswork': True, 'j_fre_point': 0, 'hit_target': 0, 'missile_type': 0}, {'course': 69, 'r_iswork': True, 'r_fre_point': 1, 'j_iswork': True, 'j_fre_point': 0, 'hit_target': 0, 'missile_type': 0}, {'course': 29, 'r_iswork': True, 'r_fre_point': 1, 'j_iswork': True, 'j_fre_point': 0, 'hit_target': 0, 'missile_type': 0}, {'course': 180, 'r_iswork': True, 'r_fre_point': 1, 'j_iswork': True, 'j_fre_point': 0, 'hit_target': 0, 'missile_type': 0}, {'course': 105, 'r_iswork': True, 'r_fre_point': 1, 'j_iswork': True, 'j_fre_point': 0, 'hit_target': 0, 'missile_type': 0}, {'course': 198, 'r_iswork': True, 'r_fre_point': 1, 'j_iswork': True, 'j_fre_point': 0, 'hit_target': 0, 'missile_type': 0}, {'course': 25, 'r_iswork': True, 'r_fre_point': 1, 'j_iswork': True, 'j_fre_point': 0, 'hit_target': 0, 'missile_type': 0}, {'course': 16, 'r_iswork': True, 'r_fre_point': 1, 'j_iswork': True, 'j_fre_point': 0, 'hit_target': 0, 'missile_type': 0}, {'course': 194, 'r_iswork': True, 'r_fre_point': 1, 'j_iswork': True, 'j_fre_point': 0, 'hit_target': 0, 'missile_type': 0}, {'course': 354, 'r_iswork': True, 'r_fre_point': 1, 'j_iswork': True, 'j_fre_point': 0, 'hit_target': 0, 'missile_type': 0}]\n[[   8    2   11    0]\n [ -69    2   11    0]\n [  59    2   11    0]\n [  31    2    0    0]\n [   0    2    0    0]\n [  13    2    0    0]\n [-130    2    0    0]\n [ -79    2    0    0]\n [ -38    2    0    0]\n [ -53    2   21    0]]\n[{'course': 290, 'r_iswork': True, 'r_fre_point': 1, 'j_iswork': True, 'j_fre_point': 0, 'hit_target': 0, 'missile_type': 0}, {'course': 69, 'r_iswork': True, 'r_fre_point': 1, 'j_iswork': True, 'j_fre_point': 0, 'hit_target': 0, 'missile_type': 0}, {'course': 29, 'r_iswork': True, 'r_fre_point': 1, 'j_iswork': True, 'j_fre_point': 0, 'hit_target': 0, 'missile_type': 0}, {'course': 180, 'r_iswork': True, 'r_fre_point': 1, 'j_iswork': True, 'j_fre_point': 0, 'hit_target': 0, 'missile_type': 0}, {'course': 105, 'r_iswork': True, 'r_fre_point': 1, 'j_iswork': True, 'j_fre_point': 0, 'hit_target': 0, 'missile_type': 0}, {'course': 198, 'r_iswork': True, 'r_fre_point': 1, 'j_iswork': True, 'j_fre_point': 0, 'hit_target': 0, 'missile_type': 0}, {'course': 25, 'r_iswork': True, 'r_fre_point': 1, 'j_iswork': True, 'j_fre_point': 0, 'hit_target': 0, 'missile_type': 0}, {'course': 16, 'r_iswork': True, 'r_fre_point': 1, 'j_iswork': True, 'j_fre_point': 0, 'hit_target': 0, 'missile_type': 0}, {'course': 194, 'r_iswork': True, 'r_fre_point': 1, 'j_iswork': True, 'j_fre_point': 0, 'hit_target': 0, 'missile_type': 0}, {'course': 354, 'r_iswork': True, 'r_fre_point': 1, 'j_iswork': True, 'j_fre_point': 0, 'hit_target': 0, 'missile_type': 0}]\n[[  -8    2   11    0]\n [-118    2   11    0]\n [  66    2   11    0]\n [  31    2    0    0]\n [  43    2    0    0]\n [  14    2    0    8]\n [-158    2    0    0]\n [-118    2    0    0]\n [ -39    2    0    0]\n [ -79    2   21    0]]\n[{'course': 290, 'r_iswork': True, 'r_fre_point': 1, 'j_iswork': True, 'j_fre_point': 0, 'hit_target': 0, 'missile_type': 0}, {'course': 69, 'r_iswork': True, 'r_fre_point': 1, 'j_iswork': True, 'j_fre_point': 0, 'hit_target': 0, 'missile_type': 0}, {'course': 29, 'r_iswork': True, 'r_fre_point': 1, 'j_iswork': True, 'j_fre_point': 0, 'hit_target': 0, 'missile_type': 0}, {'course': 180, 'r_iswork': True, 'r_fre_point': 1, 'j_iswork': True, 'j_fre_point': 0, 'hit_target': 0, 'missile_type': 0}, {'course': 105, 'r_iswork': True, 'r_fre_point': 1, 'j_iswork': True, 'j_fre_point': 0, 'hit_target': 0, 'missile_type': 0}, {'course': 198, 'r_iswork': True, 'r_fre_point': 1, 'j_iswork': True, 'j_fre_point': 0, 'hit_target': 8, 'missile_type': 1}, {'course': 25, 'r_iswork': True, 'r_fre_point': 1, 'j_iswork': True, 'j_fre_point': 0, 'hit_target': 0, 'missile_type': 0}, {'course': 16, 'r_iswork': True, 'r_fre_point': 1, 'j_iswork': True, 'j_fre_point': 0, 'hit_target': 0, 'missile_type': 0}, {'course': 194, 'r_iswork': True, 'r_fre_point': 1, 'j_iswork': True, 'j_fre_point': 0, 'hit_target': 0, 'missile_type': 0}, {'course': 354, 'r_iswork': True, 'r_fre_point': 1, 'j_iswork': True, 'j_fre_point': 0, 'hit_target': 0, 'missile_type': 0}]\n[[ 100    6   11    0]\n [-109    6   11    0]\n [ 100    6   11    0]\n [  32    6    0    0]\n [  43    6    0    0]\n [  15    6    0    8]\n [-104    6    0    0]\n [-131    6    0    0]\n [ -40    6    0    0]\n [ -60    6   21    0]]\n[{'course': 290, 'r_iswork': True, 'r_fre_point': 1, 'j_iswork': True, 'j_fre_point': 0, 'hit_target': 0, 'missile_type': 0}, {'course': 69, 'r_iswork': True, 'r_fre_point': 1, 'j_iswork': True, 'j_fre_point': 0, 'hit_target': 0, 'missile_type': 0}, {'course': 29, 'r_iswork': True, 'r_fre_point': 1, 'j_iswork': True, 'j_fre_point': 0, 'hit_target': 0, 'missile_type': 0}, {'course': 180, 'r_iswork': True, 'r_fre_point': 1, 'j_iswork': True, 'j_fre_point': 0, 'hit_target': 0, 'missile_type': 0}, {'course': 105, 'r_iswork': True, 'r_fre_point': 1, 'j_iswork': True, 'j_fre_point': 0, 'hit_target': 0, 'missile_type': 0}, {'course': 198, 'r_iswork': True, 'r_fre_point': 1, 'j_iswork': True, 'j_fre_point': 0, 'hit_target': 0, 'missile_type': 0}, {'course': 25, 'r_iswork': True, 'r_fre_point': 1, 'j_iswork': True, 'j_fre_point': 0, 'hit_target': 0, 'missile_type': 0}, {'course': 16, 'r_iswork': True, 'r_fre_point': 1, 'j_iswork': True, 'j_fre_point': 0, 'hit_target': 0, 'missile_type': 0}, {'course': 194, 'r_iswork': True, 'r_fre_point': 1, 'j_iswork': True, 'j_fre_point': 0, 'hit_target': 0, 'missile_type': 0}, {'course': 354, 'r_iswork': True, 'r_fre_point': 1, 'j_iswork': True, 'j_fre_point': 0, 'hit_target': 0, 'missile_type': 0}]\n[[  31    6   11    0]\n [-108    6   11    0]\n [  22    6   11    0]\n [  32    6    0    0]\n [  44    6    0    0]\n [  16    6    1    0]\n [ -70    6    1    0]\n [-125    6    1    0]\n [ 138    6    0    0]\n [  23    6   21    0]]\n[{'course': 290, 'r_iswork': True, 'r_fre_point': 1, 'j_iswork': True, 'j_fre_point': 0, 'hit_target': 0, 'missile_type': 0}, {'course': 69, 'r_iswork': True, 'r_fre_point': 1, 'j_iswork': True, 'j_fre_point': 0, 'hit_target': 0, 'missile_type': 0}, {'course': 29, 'r_iswork': True, 'r_fre_point': 1, 'j_iswork': True, 'j_fre_point': 0, 'hit_target': 0, 'missile_type': 0}, {'course': 179, 'r_iswork': True, 'r_fre_point': 1, 'j_iswork': True, 'j_fre_point': 0, 'hit_target': 0, 'missile_type': 0}, {'course': 105, 'r_iswork': True, 'r_fre_point': 1, 'j_iswork': True, 'j_fre_point': 0, 'hit_target': 0, 'missile_type': 0}, {'course': 198, 'r_iswork': True, 'r_fre_point': 1, 'j_iswork': True, 'j_fre_point': 0, 'hit_target': 0, 'missile_type': 0}, {'course': 25, 'r_iswork': True, 'r_fre_point': 1, 'j_iswork': True, 'j_fre_point': 0, 'hit_target': 0, 'missile_type': 0}, {'course': 16, 'r_iswork': True, 'r_fre_point': 1, 'j_iswork': True, 'j_fre_point': 0, 'hit_target': 0, 'missile_type': 0}, {'course': 204, 'r_iswork': True, 'r_fre_point': 1, 'j_iswork': True, 'j_fre_point': 0, 'hit_target': 0, 'missile_type': 0}, {'course': 354, 'r_iswork': True, 'r_fre_point': 1, 'j_iswork': True, 'j_fre_point': 0, 'hit_target': 0, 'missile_type': 0}]\n"
    }
   ],
   "source": [
    "for i in range(132):\n",
    "    step_cnt += 1\n",
    "    side1_detector_action, side1_fighter_action = agent1.get_action(side1_obs_dict, step_cnt)\n",
    "    print(side1_fighter_action)\n",
    "    side2_detector_action, side2_fighter_action = agent2.get_action(side2_obs_dict, step_cnt)\n",
    "    print(side2_fighter_action)\n",
    "    a=env.step(side1_detector_action, side1_fighter_action, side2_detector_action, side2_fighter_action)\n",
    "    side1_obs_dict, side2_obs_dict = env.get_obs()"
   ]
  },
  {
   "cell_type": "code",
   "execution_count": 53,
   "metadata": {},
   "outputs": [
    {
     "output_type": "execute_result",
     "data": {
      "text/plain": "[{'id': 3,\n  'alive': True,\n  'pos_x': 131,\n  'pos_y': 75,\n  'course': 31,\n  'r_iswork': True,\n  'r_fre_point': 6,\n  'r_visible_list': [],\n  'j_iswork': True,\n  'j_fre_point': 0,\n  'j_recv_list': [],\n  'l_missile_left': 2,\n  's_missile_left': 4,\n  'striking_list': [],\n  'striking_dict_list': [],\n  'last_reward': 0,\n  'last_action': {'course': 31,\n   'r_iswork': True,\n   'r_fre_point': 6,\n   'j_iswork': True,\n   'j_fre_point': 0,\n   'hit_target': 0,\n   'missile_type': 0}},\n {'id': 4,\n  'alive': True,\n  'pos_x': 92,\n  'pos_y': 112,\n  'course': -108,\n  'r_iswork': True,\n  'r_fre_point': 6,\n  'r_visible_list': [],\n  'j_iswork': True,\n  'j_fre_point': 0,\n  'j_recv_list': [],\n  'l_missile_left': 2,\n  's_missile_left': 4,\n  'striking_list': [],\n  'striking_dict_list': [],\n  'last_reward': 0,\n  'last_action': {'course': -108,\n   'r_iswork': True,\n   'r_fre_point': 6,\n   'j_iswork': True,\n   'j_fre_point': 0,\n   'hit_target': 0,\n   'missile_type': 0}},\n {'id': 5,\n  'alive': True,\n  'pos_x': 112,\n  'pos_y': 137,\n  'course': 22,\n  'r_iswork': True,\n  'r_fre_point': 6,\n  'r_visible_list': [],\n  'j_iswork': True,\n  'j_fre_point': 0,\n  'j_recv_list': [],\n  'l_missile_left': 2,\n  's_missile_left': 4,\n  'striking_list': [],\n  'striking_dict_list': [],\n  'last_reward': 0,\n  'last_action': {'course': 22,\n   'r_iswork': True,\n   'r_fre_point': 6,\n   'j_iswork': True,\n   'j_fre_point': 0,\n   'hit_target': 0,\n   'missile_type': 0}},\n {'id': 6,\n  'alive': True,\n  'pos_x': 303,\n  'pos_y': 336,\n  'course': 32,\n  'r_iswork': True,\n  'r_fre_point': 6,\n  'r_visible_list': [{'id': 6, 'type': 1, 'pos_x': 424, 'pos_y': 416}],\n  'j_iswork': False,\n  'j_fre_point': 0,\n  'j_recv_list': [],\n  'l_missile_left': 2,\n  's_missile_left': 4,\n  'striking_list': [],\n  'striking_dict_list': [],\n  'last_reward': 100,\n  'last_action': {'course': 32,\n   'r_iswork': True,\n   'r_fre_point': 6,\n   'j_iswork': False,\n   'j_fre_point': 0,\n   'hit_target': 0,\n   'missile_type': 0}},\n {'id': 7,\n  'alive': True,\n  'pos_x': 284,\n  'pos_y': 421,\n  'course': 44,\n  'r_iswork': True,\n  'r_fre_point': 6,\n  'r_visible_list': [],\n  'j_iswork': False,\n  'j_fre_point': 0,\n  'j_recv_list': [],\n  'l_missile_left': 2,\n  's_missile_left': 4,\n  'striking_list': [],\n  'striking_dict_list': [],\n  'last_reward': 0,\n  'last_action': {'course': 44,\n   'r_iswork': True,\n   'r_fre_point': 6,\n   'j_iswork': False,\n   'j_fre_point': 0,\n   'hit_target': 0,\n   'missile_type': 0}},\n {'id': 8,\n  'alive': True,\n  'pos_x': 306,\n  'pos_y': 505,\n  'course': 16,\n  'r_iswork': True,\n  'r_fre_point': 6,\n  'r_visible_list': [],\n  'j_iswork': True,\n  'j_fre_point': 1,\n  'j_recv_list': [{'id': 8, 'type': 1, 'direction': 17, 'r_fp': 1}],\n  'l_missile_left': 0,\n  's_missile_left': 4,\n  'striking_list': [8, 8],\n  'striking_dict_list': [{'target_id': 8,\n    'pos_x': 398,\n    'pos_y': 534,\n    'type': 1},\n   {'target_id': 8, 'pos_x': 398, 'pos_y': 534, 'type': 1}],\n  'last_reward': 0,\n  'last_action': {'course': 16,\n   'r_iswork': True,\n   'r_fre_point': 6,\n   'j_iswork': True,\n   'j_fre_point': 1,\n   'hit_target': 0,\n   'missile_type': 0}},\n {'id': 9,\n  'alive': True,\n  'pos_x': 146,\n  'pos_y': 405,\n  'course': -70,\n  'r_iswork': True,\n  'r_fre_point': 6,\n  'r_visible_list': [],\n  'j_iswork': True,\n  'j_fre_point': 1,\n  'j_recv_list': [],\n  'l_missile_left': 2,\n  's_missile_left': 4,\n  'striking_list': [],\n  'striking_dict_list': [],\n  'last_reward': 0,\n  'last_action': {'course': -70,\n   'r_iswork': True,\n   'r_fre_point': 6,\n   'j_iswork': True,\n   'j_fre_point': 1,\n   'hit_target': 0,\n   'missile_type': 0}},\n {'id': 10,\n  'alive': True,\n  'pos_x': 211,\n  'pos_y': 558,\n  'course': -125,\n  'r_iswork': True,\n  'r_fre_point': 6,\n  'r_visible_list': [],\n  'j_iswork': True,\n  'j_fre_point': 1,\n  'j_recv_list': [],\n  'l_missile_left': 2,\n  's_missile_left': 4,\n  'striking_list': [],\n  'striking_dict_list': [],\n  'last_reward': 0,\n  'last_action': {'course': -125,\n   'r_iswork': True,\n   'r_fre_point': 6,\n   'j_iswork': True,\n   'j_fre_point': 1,\n   'hit_target': 0,\n   'missile_type': 0}},\n {'id': 11,\n  'alive': True,\n  'pos_x': 284,\n  'pos_y': 639,\n  'course': 138,\n  'r_iswork': True,\n  'r_fre_point': 6,\n  'r_visible_list': [],\n  'j_iswork': False,\n  'j_fre_point': 0,\n  'j_recv_list': [],\n  'l_missile_left': 2,\n  's_missile_left': 4,\n  'striking_list': [],\n  'striking_dict_list': [],\n  'last_reward': 0,\n  'last_action': {'course': 138,\n   'r_iswork': True,\n   'r_fre_point': 6,\n   'j_iswork': False,\n   'j_fre_point': 0,\n   'hit_target': 0,\n   'missile_type': 0}},\n {'id': 12,\n  'alive': True,\n  'pos_x': 241,\n  'pos_y': 715,\n  'course': 23,\n  'r_iswork': True,\n  'r_fre_point': 6,\n  'r_visible_list': [{'id': 11, 'type': 1, 'pos_x': 398, 'pos_y': 785}],\n  'j_iswork': True,\n  'j_fre_point': 0,\n  'j_recv_list': [],\n  'l_missile_left': 2,\n  's_missile_left': 4,\n  'striking_list': [],\n  'striking_dict_list': [],\n  'last_reward': 100,\n  'last_action': {'course': 23,\n   'r_iswork': True,\n   'r_fre_point': 6,\n   'j_iswork': True,\n   'j_fre_point': 0,\n   'hit_target': 0,\n   'missile_type': 0}}]"
     },
     "metadata": {},
     "execution_count": 53
    }
   ],
   "source": [
    "side1_obs_dict['fighter_obs_list']"
   ]
  },
  {
   "cell_type": "code",
   "execution_count": 14,
   "metadata": {},
   "outputs": [
    {
     "output_type": "execute_result",
     "data": {
      "text/plain": "[{'id': 1,\n  'alive': True,\n  'pos_x': 235,\n  'pos_y': 334,\n  'course': 0,\n  'r_iswork': True,\n  'r_fre_point': 1,\n  'r_visible_list': [{'id': 4, 'type': 1, 'pos_x': 504, 'pos_y': 263},\n   {'id': 5, 'type': 1, 'pos_x': 500, 'pos_y': 285}],\n  'last_reward': 0,\n  'last_action': {'course': 0, 'r_iswork': True, 'r_fre_point': 1}},\n {'id': 2,\n  'alive': True,\n  'pos_x': 235,\n  'pos_y': 667,\n  'course': 0,\n  'r_iswork': True,\n  'r_fre_point': 1,\n  'r_visible_list': [],\n  'last_reward': 0,\n  'last_action': {'course': 0, 'r_iswork': True, 'r_fre_point': 1}}]"
     },
     "metadata": {},
     "execution_count": 14
    }
   ],
   "source": [
    "side1_obs_dict['detector_obs_list']"
   ]
  },
  {
   "cell_type": "code",
   "execution_count": null,
   "metadata": {},
   "outputs": [],
   "source": [
    "a=env.step(side1_detector_action, side1_fighter_action, side2_detector_action, side2_fighter_action)"
   ]
  },
  {
   "cell_type": "code",
   "execution_count": null,
   "metadata": {},
   "outputs": [],
   "source": [
    "side1_obs_dict['fighter_obs_list'][0]"
   ]
  },
  {
   "cell_type": "code",
   "execution_count": null,
   "metadata": {},
   "outputs": [],
   "source": [
    "env.get_reward()"
   ]
  },
  {
   "cell_type": "code",
   "execution_count": null,
   "metadata": {},
   "outputs": [],
   "source": [
    "env.get_map_size()[0]"
   ]
  },
  {
   "cell_type": "code",
   "execution_count": null,
   "metadata": {},
   "outputs": [],
   "source": [
    "side2_obs_dict['detector_obs_list']"
   ]
  },
  {
   "cell_type": "code",
   "execution_count": null,
   "metadata": {},
   "outputs": [],
   "source": [
    "side1_obs_dict['detector_obs_list']"
   ]
  },
  {
   "cell_type": "code",
   "execution_count": null,
   "metadata": {},
   "outputs": [],
   "source": [
    "side1_obs_dict['fighter_obs_list']"
   ]
  },
  {
   "cell_type": "code",
   "execution_count": null,
   "metadata": {},
   "outputs": [],
   "source": [
    "side1_obs_dict['joint_obs_dict']"
   ]
  },
  {
   "cell_type": "code",
   "execution_count": null,
   "metadata": {},
   "outputs": [],
   "source": [
    "side2_obs_dict['fighter_obs_list']"
   ]
  },
  {
   "cell_type": "code",
   "execution_count": null,
   "metadata": {},
   "outputs": [],
   "source": [
    "env.get_reward()"
   ]
  },
  {
   "cell_type": "code",
   "execution_count": null,
   "metadata": {},
   "outputs": [],
   "source": [
    "ae = agent.ae.ae.StateAE()"
   ]
  },
  {
   "cell_type": "code",
   "execution_count": null,
   "metadata": {},
   "outputs": [],
   "source": [
    "a=torch.Tensor([[1,2],[3,4]])\n",
    "b=torch.Tensor([[0,0],[0,0]])"
   ]
  },
  {
   "cell_type": "code",
   "execution_count": null,
   "metadata": {},
   "outputs": [],
   "source": [
    "a=torch.Tensor([1,2])\n",
    "b=torch.Tensor([3,4])"
   ]
  },
  {
   "cell_type": "code",
   "execution_count": null,
   "metadata": {},
   "outputs": [],
   "source": [
    "a=Variable(a, requires_grad=True)\n",
    "b=Variable(b, requires_grad=False)"
   ]
  },
  {
   "cell_type": "code",
   "execution_count": null,
   "metadata": {},
   "outputs": [],
   "source": [
    "class A(nn.Module):\n",
    "    def __init__(self):\n",
    "        super(A, self).__init__()\n",
    "        self.linear = nn.Linear(2,2)\n",
    "    \n",
    "    def forward(self, input):\n",
    "        return self.linear(input)"
   ]
  },
  {
   "cell_type": "code",
   "execution_count": null,
   "metadata": {},
   "outputs": [],
   "source": [
    "net = A()\n",
    "opt = optim.SGD(net.parameters(), lr=1)"
   ]
  },
  {
   "cell_type": "code",
   "execution_count": null,
   "metadata": {},
   "outputs": [],
   "source": [
    "a=np.zeros((2,1,2))\n",
    "b=np.ones((2,1,2))"
   ]
  },
  {
   "cell_type": "code",
   "execution_count": null,
   "metadata": {},
   "outputs": [],
   "source": [
    "a=np.array([[1,2],[4,5],[3,4]])"
   ]
  },
  {
   "cell_type": "code",
   "execution_count": null,
   "metadata": {},
   "outputs": [],
   "source": [
    "class BlockNet(nn.Module):\n",
    "    def __init__(self, in_channels, out_channels, kernel_size=3, out_activation=nn.ReLU):\n",
    "        super(BlockNet, self).__init__()\n",
    "        self.res1 = ResUnit(in_channels, in_channels, kernel_size=kernel_size)\n",
    "        self.res2 = ResUnit(in_channels, out_channels, kernel_size=kernel_size, out_activation=out_activation)\n",
    "\n",
    "    def forward(self, x):\n",
    "        out = self.res1(x)\n",
    "        out = self.res2(out)\n",
    "        return out"
   ]
  },
  {
   "cell_type": "code",
   "execution_count": null,
   "metadata": {},
   "outputs": [],
   "source": [
    "class ResUnit(nn.Module):\n",
    "    def __init__(self, in_channels, out_channels, kernel_size=3, out_activation=nn.ReLU):\n",
    "        super(ResUnit, self).__init__()\n",
    "        self.conv1 = nn.Conv2d(in_channels, in_channels, kernel_size, 1, (kernel_size-1)//2)\n",
    "        self.conv2 = nn.Conv2d(in_channels, out_channels, kernel_size, 1, (kernel_size-1)//2)\n",
    "        if (in_channels != out_channels):\n",
    "            self.projection = nn.Conv2d(\n",
    "                in_channels, out_channels, kernel_size=1, stride=1, padding=0, bias=False)\n",
    "        if out_activation:\n",
    "            self.out_activation = out_activation()\n",
    "\n",
    "    def forward(self, x):\n",
    "        out = self.conv1(x)\n",
    "        out = F.relu(out)\n",
    "        out = self.conv2(out)\n",
    "        if (x.shape[1] != out.shape[1]):\n",
    "            x = self.projection(x)\n",
    "        out = out + x\n",
    "        if hasattr(self, 'out_activation'):\n",
    "            out = self.out_activation(out)\n",
    "        return out"
   ]
  },
  {
   "cell_type": "code",
   "execution_count": null,
   "metadata": {},
   "outputs": [],
   "source": [
    "        preprocess_net = nn.Sequential( # 预处理\n",
    "            BlockNet(in_channels=2, out_channels=2, kernel_size=7, out_activation=nn.Tanh),\n",
    "            BlockNet(in_channels=2, out_channels=2, kernel_size=5, out_activation=nn.Tanh))"
   ]
  },
  {
   "cell_type": "code",
   "execution_count": null,
   "metadata": {},
   "outputs": [],
   "source": [
    "class DQN(nn.Module):\n",
    "    def __init__(self, preprocess_net=None):\n",
    "        super(DQN, self).__init__()\n",
    "        self.tau = 0.005\n",
    "        self.preprocess = preprocess_net\n",
    "        self.q = BlockNet(in_channels=3, out_channels=1, kernel_size=3, out_activation=None)\n",
    "        self.target_q = BlockNet(in_channels=3, out_channels=1, kernel_size=3, out_activation=None)\n",
    "        self.opt = optim.SGD(self.parameters(), lr=1e-3)"
   ]
  },
  {
   "cell_type": "code",
   "execution_count": null,
   "metadata": {},
   "outputs": [],
   "source": [
    "dqn = DQN(preprocess_net=preprocess_net)"
   ]
  },
  {
   "cell_type": "code",
   "execution_count": 13,
   "metadata": {},
   "outputs": [],
   "source": [
    "a=np.array([[1,2],[3,4]])"
   ]
  },
  {
   "cell_type": "code",
   "execution_count": 16,
   "metadata": {},
   "outputs": [
    {
     "output_type": "execute_result",
     "data": {
      "text/plain": "[array([1, 2])]"
     },
     "metadata": {},
     "execution_count": 16
    }
   ],
   "source": [
    "[x for x in a if x[0]==1]"
   ]
  },
  {
   "cell_type": "code",
   "execution_count": 12,
   "metadata": {},
   "outputs": [
    {
     "output_type": "execute_result",
     "data": {
      "text/plain": "2"
     },
     "metadata": {},
     "execution_count": 12
    }
   ],
   "source": [
    "np.sum(a)"
   ]
  },
  {
   "cell_type": "code",
   "execution_count": null,
   "metadata": {},
   "outputs": [],
   "source": []
  }
 ],
 "metadata": {
  "language_info": {
   "codemirror_mode": {
    "name": "ipython",
    "version": 3
   },
   "file_extension": ".py",
   "mimetype": "text/x-python",
   "name": "python",
   "nbconvert_exporter": "python",
   "pygments_lexer": "ipython3",
   "version": "3.7.5-final"
  },
  "orig_nbformat": 2,
  "kernelspec": {
   "name": "python37564bit1d4891942d8e4d45ba47dab68f168358",
   "display_name": "Python 3.7.5 64-bit"
  }
 },
 "nbformat": 4,
 "nbformat_minor": 2
}